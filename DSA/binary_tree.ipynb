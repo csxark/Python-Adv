{
  "cells": [
    {
      "cell_type": "markdown",
      "metadata": {},
      "source": [
        "# Binary Tree"
      ]
    },
    {
      "cell_type": "markdown",
      "metadata": {
        "id": "806352a6"
      },
      "source": [
        "Let's start by defining the `Node` class for our Binary Tree. Each node will have a value, a left child, and a right child."
      ]
    },
    {
      "cell_type": "code",
      "execution_count": 1,
      "metadata": {
        "id": "583ae54e"
      },
      "outputs": [],
      "source": [
        "class Node:\n",
        "    def __init__(self, value):\n",
        "        self.value = value\n",
        "        self.left = None\n",
        "        self.right = None"
      ]
    },
    {
      "cell_type": "markdown",
      "metadata": {
        "id": "e0794498"
      },
      "source": [
        "Now, let's define the `BinaryTree` class. This class will have a root node and methods for common operations like insertion and traversal."
      ]
    },
    {
      "cell_type": "code",
      "execution_count": 2,
      "metadata": {
        "id": "6f5613af"
      },
      "outputs": [],
      "source": [
        "class BinaryTree:\n",
        "    def __init__(self):\n",
        "        self.root = None\n",
        "\n",
        "    def insert(self, value):\n",
        "        if self.root is None:\n",
        "            self.root = Node(value)\n",
        "        else:\n",
        "            self._insert_recursive(self.root, value)\n",
        "\n",
        "    def _insert_recursive(self, current_node, value):\n",
        "        if value < current_node.value:\n",
        "            if current_node.left is None:\n",
        "                current_node.left = Node(value)\n",
        "            else:\n",
        "                self._insert_recursive(current_node.left, value)\n",
        "        elif value > current_node.value:\n",
        "            if current_node.right is None:\n",
        "                current_node.right = Node(value)\n",
        "            else:\n",
        "                self._insert_recursive(current_node.right, value)\n",
        "        else:\n",
        "            # Value already exists, do nothing\n",
        "            pass\n",
        "\n",
        "    def inorder_traversal(self):\n",
        "        result = []\n",
        "        self._inorder_recursive(self.root, result)\n",
        "        return result\n",
        "\n",
        "    def _inorder_recursive(self, current_node, result):\n",
        "        if current_node:\n",
        "            self._inorder_recursive(current_node.left, result)\n",
        "            result.append(current_node.value)\n",
        "            self._inorder_recursive(current_node.right, result)\n",
        "\n",
        "    def preorder_traversal(self):\n",
        "        result = []\n",
        "        self._preorder_recursive(self.root, result)\n",
        "        return result\n",
        "\n",
        "    def _preorder_recursive(self, current_node, result):\n",
        "        if current_node:\n",
        "            result.append(current_node.value)\n",
        "            self._preorder_recursive(current_node.left, result)\n",
        "            self._preorder_recursive(current_node.right, result)\n",
        "\n",
        "    def postorder_traversal(self):\n",
        "        result = []\n",
        "        self._postorder_recursive(self.root, result)\n",
        "        return result\n",
        "\n",
        "    def _postorder_recursive(self, current_node, result):\n",
        "        if current_node:\n",
        "            self._postorder_recursive(current_node.left, result)\n",
        "            self._postorder_recursive(current_node.right, result)\n",
        "            result.append(current_node.value)"
      ]
    },
    {
      "cell_type": "markdown",
      "metadata": {
        "id": "e907eb87"
      },
      "source": [
        "Let's create an instance of the `BinaryTree` and insert some values."
      ]
    },
    {
      "cell_type": "code",
      "execution_count": 3,
      "metadata": {
        "id": "16413b3e"
      },
      "outputs": [],
      "source": [
        "# Create a Binary Tree\n",
        "tree = BinaryTree()\n",
        "\n",
        "# Insert nodes\n",
        "tree.insert(50)\n",
        "tree.insert(30)\n",
        "tree.insert(20)\n",
        "tree.insert(40)\n",
        "tree.insert(70)\n",
        "tree.insert(60)\n",
        "tree.insert(80)"
      ]
    },
    {
      "cell_type": "markdown",
      "metadata": {
        "id": "87b7e051"
      },
      "source": [
        "Now, let's perform the different types of traversals to see the order in which the nodes are visited.\n",
        "\n",
        "**In-order Traversal (Left -> Root -> Right):** This traversal visits the nodes in ascending order for a Binary Search Tree."
      ]
    },
    {
      "cell_type": "code",
      "execution_count": 4,
      "metadata": {
        "colab": {
          "base_uri": "https://localhost:8080/"
        },
        "id": "2c368a7c",
        "outputId": "83cda23c-f42b-4a36-e59d-23a5ebda835d"
      },
      "outputs": [
        {
          "name": "stdout",
          "output_type": "stream",
          "text": [
            "In-order traversal: [20, 30, 40, 50, 60, 70, 80]\n"
          ]
        }
      ],
      "source": [
        "print(\"In-order traversal:\", tree.inorder_traversal())"
      ]
    },
    {
      "cell_type": "markdown",
      "metadata": {
        "id": "2b8ffa2d"
      },
      "source": [
        "**Pre-order Traversal (Root -> Left -> Right):** This traversal visits the root node first, then the left subtree, and finally the right subtree."
      ]
    },
    {
      "cell_type": "code",
      "execution_count": 5,
      "metadata": {
        "colab": {
          "base_uri": "https://localhost:8080/"
        },
        "id": "3d92dd87",
        "outputId": "35269f93-a42f-493c-b000-82c8c068863d"
      },
      "outputs": [
        {
          "name": "stdout",
          "output_type": "stream",
          "text": [
            "Pre-order traversal: [50, 30, 20, 40, 70, 60, 80]\n"
          ]
        }
      ],
      "source": [
        "print(\"Pre-order traversal:\", tree.preorder_traversal())"
      ]
    },
    {
      "cell_type": "markdown",
      "metadata": {
        "id": "1d2e3b9b"
      },
      "source": [
        "**Post-order Traversal (Left -> Right -> Root):** This traversal visits the left subtree first, then the right subtree, and finally the root node."
      ]
    },
    {
      "cell_type": "code",
      "execution_count": 6,
      "metadata": {
        "colab": {
          "base_uri": "https://localhost:8080/"
        },
        "id": "a55edd6b",
        "outputId": "f9d7c1cd-1e2d-4817-d987-6602f8f6880c"
      },
      "outputs": [
        {
          "name": "stdout",
          "output_type": "stream",
          "text": [
            "Post-order traversal: [20, 40, 30, 60, 80, 70, 50]\n"
          ]
        }
      ],
      "source": [
        "print(\"Post-order traversal:\", tree.postorder_traversal())"
      ]
    }
  ],
  "metadata": {
    "colab": {
      "provenance": []
    },
    "kernelspec": {
      "display_name": "Python 3",
      "name": "python3"
    },
    "language_info": {
      "codemirror_mode": {
        "name": "ipython",
        "version": 3
      },
      "file_extension": ".py",
      "mimetype": "text/x-python",
      "name": "python",
      "nbconvert_exporter": "python",
      "pygments_lexer": "ipython3",
      "version": "3.12.0"
    }
  },
  "nbformat": 4,
  "nbformat_minor": 0
}
