{
 "cells": [
  {
   "cell_type": "markdown",
   "id": "a65f143f",
   "metadata": {},
   "source": [
    "# Linked List: Implementation and its Operations"
   ]
  },
  {
   "cell_type": "code",
   "execution_count": 1,
   "id": "9bfc91ff",
   "metadata": {},
   "outputs": [],
   "source": [
    "class Node:\n",
    "    def __init__(self,value):\n",
    "        self.data=value\n",
    "        self.next=None\n",
    "        "
   ]
  },
  {
   "cell_type": "code",
   "execution_count": null,
   "id": "656eee5f",
   "metadata": {},
   "outputs": [],
   "source": [
    "class LinkedList:\n",
    "    def __init__(self):\n",
    "        # Initialize an empty linked list\n",
    "        self.head = None\n",
    "        self.n = 0\n",
    "\n",
    "    def __len__(self):\n",
    "        # Return the number of elements in the list\n",
    "        return self.n\n",
    "\n",
    "    def insert_head(self, value):\n",
    "        # Insert a new node at the beginning (head) of the list\n",
    "        new_node = Node(value)\n",
    "        new_node.next = self.head\n",
    "        self.head = new_node\n",
    "        self.n = self.n + 1\n",
    "\n",
    "    def __str__(self):\n",
    "        # Return a string representation of the list\n",
    "        curr = self.head\n",
    "        result = ''\n",
    "        while curr != None:\n",
    "            result = result + str(curr.data) + '->'\n",
    "            curr = curr.next\n",
    "        return result[:-2]  # Remove the last '->'\n",
    "\n",
    "    def append(self, value):\n",
    "        # Add a new node at the end of the list\n",
    "        new_node = Node(value)\n",
    "        if self.head == new_node:\n",
    "            self.head = new_node\n",
    "            self.n = self.n + 1\n",
    "            return\n",
    "        curr = self.head\n",
    "        while curr.next != None:\n",
    "            curr = curr.next\n",
    "        curr.next = new_node\n",
    "        self.n = self.n + 1\n",
    "\n",
    "    def insert_after(self, after, value):\n",
    "        # Insert a new node after a node with a specific value\n",
    "        new_node = Node(value)\n",
    "        curr = self.head\n",
    "        while curr != None:\n",
    "            if curr.data == after:\n",
    "                new_node.next = curr.next\n",
    "                curr.next = new_node\n",
    "                self.n = self.n + 1\n",
    "            else:\n",
    "                return \"Item not found!!\"\n",
    "\n",
    "    def clear(self):\n",
    "        # Remove all elements from the list\n",
    "        self.head = None\n",
    "        self.n = 0\n",
    "\n",
    "    def delete_head(self):\n",
    "        # Remove the head node from the list\n",
    "        if self.head == None:\n",
    "            return \"Empty\"\n",
    "        self.head = self.head.next\n",
    "        self.n = self.n - 1\n",
    "\n",
    "    def pop(self):\n",
    "        # Remove the last node from the list\n",
    "        if self.head == None:\n",
    "            return \"Empty\"\n",
    "        curr = self.head\n",
    "        if curr.next == None:\n",
    "            return self.delete_head()\n",
    "        while curr.next.next != None:\n",
    "            curr = curr.next\n",
    "        curr.next = None\n",
    "        self.n = self.n - 1\n",
    "\n",
    "    def remove(self, value):\n",
    "        # Remove the first node with the specified value\n",
    "        if self.head == None:\n",
    "            return \"Empty\"\n",
    "        if self.head.data == value:\n",
    "            return self.delete_head()\n",
    "        curr = self.head\n",
    "        while curr.next != None:\n",
    "            if curr.next.data == value:\n",
    "                break\n",
    "            curr = curr.next\n",
    "        if curr.next == None:\n",
    "            return 'Not Found'\n",
    "        else:\n",
    "            curr.next = curr.next.next\n",
    "            self.n = self.n - 1\n",
    "\n",
    "    def search(self, item):\n",
    "        # Search for a value and return its position\n",
    "        curr = self.head\n",
    "        pos = 0\n",
    "        while curr != None:\n",
    "            if curr.data == item:\n",
    "                return pos\n",
    "            curr = curr.next\n",
    "            pos = pos + 1\n",
    "        return 'Not Found'\n",
    "\n",
    "    def __getitem__(self, index):\n",
    "        # Get the value at a specific index\n",
    "        curr = self.head\n",
    "        pos = 0\n",
    "        while curr != None:\n",
    "            if pos == index:\n",
    "                return curr.data\n",
    "            curr = curr.next\n",
    "            pos = pos + 1\n",
    "        return \"Index Error\""
   ]
  },
  {
   "cell_type": "code",
   "execution_count": 3,
   "id": "c0c9b7bb",
   "metadata": {},
   "outputs": [],
   "source": [
    "L=LinkedList()"
   ]
  },
  {
   "cell_type": "code",
   "execution_count": 4,
   "id": "01ca409f",
   "metadata": {},
   "outputs": [],
   "source": [
    "L.insert_head(1)\n",
    "L.append(2)\n",
    "L.append(3)\n",
    "L.delete_head()\n",
    "L.insert_head(4)\n"
   ]
  },
  {
   "cell_type": "code",
   "execution_count": 5,
   "id": "22c82031",
   "metadata": {},
   "outputs": [
    {
     "name": "stdout",
     "output_type": "stream",
     "text": [
      "4->2->3\n"
     ]
    }
   ],
   "source": [
    "print(L)"
   ]
  },
  {
   "cell_type": "code",
   "execution_count": 6,
   "id": "672d8baa",
   "metadata": {},
   "outputs": [
    {
     "data": {
      "text/plain": [
       "'Index Error'"
      ]
     },
     "execution_count": 6,
     "metadata": {},
     "output_type": "execute_result"
    }
   ],
   "source": [
    "L[3]"
   ]
  }
 ],
 "metadata": {
  "kernelspec": {
   "display_name": "Python 3",
   "language": "python",
   "name": "python3"
  },
  "language_info": {
   "codemirror_mode": {
    "name": "ipython",
    "version": 3
   },
   "file_extension": ".py",
   "mimetype": "text/x-python",
   "name": "python",
   "nbconvert_exporter": "python",
   "pygments_lexer": "ipython3",
   "version": "3.12.0"
  }
 },
 "nbformat": 4,
 "nbformat_minor": 5
}
