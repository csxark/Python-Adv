{
 "cells": [
  {
   "cell_type": "markdown",
   "id": "637276a6",
   "metadata": {},
   "source": [
    "# Queue using Linked List Implementation"
   ]
  },
  {
   "cell_type": "code",
   "execution_count": 1,
   "id": "aa00022f",
   "metadata": {},
   "outputs": [],
   "source": [
    "class Node:\n",
    "\n",
    "  def __init__(self,value):\n",
    "    self.data = value\n",
    "    self.next = None"
   ]
  },
  {
   "cell_type": "code",
   "execution_count": null,
   "id": "074ec99d",
   "metadata": {},
   "outputs": [],
   "source": [
    "class Queue_LL:\n",
    "    # Initialize the queue with front and rear pointers set to None\n",
    "    def __init__(self):\n",
    "        self.front = None\n",
    "        self.rear = None\n",
    "\n",
    "    # Add an element to the rear of the queue\n",
    "    def enqueue(self, value):\n",
    "        new_node = Node(value)\n",
    "        # If the queue is empty, set both front and rear to the new node\n",
    "        if self.front == None:\n",
    "            self.front = new_node\n",
    "            self.rear = new_node\n",
    "        else:\n",
    "            # Link the new node at the end and update the rear pointer\n",
    "            self.rear.next = new_node\n",
    "            self.rear = new_node\n",
    "\n",
    "    # Remove an element from the front of the queue\n",
    "    def dequeue(self):\n",
    "        if self.front == None:\n",
    "            return \"Queue empty\"\n",
    "        else:\n",
    "            # Move the front pointer to the next node\n",
    "            self.front = self.front.next\n",
    "\n",
    "    # Check if the queue is empty\n",
    "    def is_empty(self):\n",
    "        return self.front == None\n",
    "\n",
    "    # Get the value at the front of the queue\n",
    "    def front_item(self):\n",
    "        if (not self.is_empty()):\n",
    "            return self.front.data\n",
    "        else:\n",
    "            return \"Empty queue\"\n",
    "\n",
    "    # Get the value at the rear of the queue\n",
    "    def rear_item(self):\n",
    "        if (not self.is_empty()):\n",
    "            return self.rear.data\n",
    "        else:\n",
    "            return \"Empty queue\"\n",
    "\n",
    "    # Print all elements in the queue from front to rear\n",
    "    def traverse(self):\n",
    "        temp = self.front\n",
    "        while temp is not None:\n",
    "            print(temp.data, end=' ')\n",
    "            temp = temp.next\n"
   ]
  },
  {
   "cell_type": "code",
   "execution_count": null,
   "id": "819017e4",
   "metadata": {},
   "outputs": [],
   "source": []
  }
 ],
 "metadata": {
  "kernelspec": {
   "display_name": "Python 3",
   "language": "python",
   "name": "python3"
  },
  "language_info": {
   "codemirror_mode": {
    "name": "ipython",
    "version": 3
   },
   "file_extension": ".py",
   "mimetype": "text/x-python",
   "name": "python",
   "nbconvert_exporter": "python",
   "pygments_lexer": "ipython3",
   "version": "3.12.0"
  }
 },
 "nbformat": 4,
 "nbformat_minor": 5
}
