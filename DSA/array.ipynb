{
 "cells": [
  {
   "cell_type": "markdown",
   "id": "58514ed5",
   "metadata": {},
   "source": [
    "# Array Data Structure Operations "
   ]
  },
  {
   "cell_type": "code",
   "execution_count": 1,
   "id": "de91473a",
   "metadata": {},
   "outputs": [],
   "source": [
    "import ctypes \n",
    "# provides C compatible data types, and allows calling functions in DLLs or shared libraries. It can be used to wrap these libraries in pure Python."
   ]
  },
  {
   "cell_type": "markdown",
   "id": "ab9035e8",
   "metadata": {},
   "source": [
    "### Class for Array Implementation and its Operations"
   ]
  },
  {
   "cell_type": "code",
   "execution_count": 18,
   "id": "86d65ef1",
   "metadata": {},
   "outputs": [],
   "source": [
    "class Array:\n",
    "    def __init__(self):\n",
    "        # Initialize array with size 1 and 0 elements\n",
    "        self.size=1 \n",
    "        self.n=0\n",
    "        self.A=self.__make_array(self.size)\n",
    "\n",
    "    def __resize(self,new_size):\n",
    "        # Resize internal array to new_size\n",
    "        B=self.__make_array(new_size)\n",
    "        self.size=new_size\n",
    "        for i in range(self.n):\n",
    "            B[i]=self.A[i]\n",
    "        self.A=B\n",
    "\n",
    "    def __delitem__(self,pos):\n",
    "        # Delete item at position 'pos' and shift elements left\n",
    "        if 0<=pos<self.n:\n",
    "            for i in range(pos,self.n-1):\n",
    "                self.A[i]=self.A[i+1]\n",
    "            self.n=self.n-1\n",
    "\n",
    "    def __make_array(self,size):\n",
    "        # Create a new array of given size using ctypes\n",
    "        return (ctypes.py_object*size)()\n",
    "    \n",
    "    def __str__(self):\n",
    "        # Return string representation of the array\n",
    "        result=''\n",
    "        for i in range(self.n):\n",
    "            result=result+str(self.A[i])+','\n",
    "        return '['+result[:-1]+']'\n",
    "    \n",
    "    def __getitem__(self,index):\n",
    "        # Access element at a particular index\n",
    "        if 0<=index<self.n:\n",
    "            return self.A[index]\n",
    "        else:\n",
    "            return \"Index Error!!\"\n",
    "\n",
    "    def __len__(self):\n",
    "        # Return number of elements in the array\n",
    "        return self.n\n",
    "\n",
    "    def append(self, item):\n",
    "    # Add an item to the end of the array. Resize if the array is full.\n",
    "        if self.n == self.size:\n",
    "        # array is full, so resize it \n",
    "            self.__resize(self.size * 2)\n",
    "        self.A[self.n] = item\n",
    "        self.n = self.n + 1\n",
    "\n",
    "    def pop(self):\n",
    "    # Remove and print the last element from the array. Return message if empty.\n",
    "        if self.n == 0:\n",
    "            return 'Empty List'\n",
    "        print(self.A[self.n - 1])  # print last element\n",
    "        self.n = self.n - 1  # reduce the size of array by 1 to remove the last element\n",
    "\n",
    "    def clear(self):\n",
    "    # Remove all elements from the array and reset its size to 1.\n",
    "        self.n = 0\n",
    "        self.size = 1\n",
    "\n",
    "    def find(self, item):\n",
    "        # Search for an item and return its index, or an error message if not found.\n",
    "        for i in range(self.n):\n",
    "            if self.A[i] == item:\n",
    "                return i\n",
    "        return \"ValueError - Not in List\"\n",
    "\n",
    "    def insert(self, pos, item):\n",
    "    # Insert an item at a specific position. Resize if the array is full.\n",
    "        if self.n == self.size:\n",
    "            self.__resize(self.size * 2)\n",
    "        for i in range(self.n, pos, -1):\n",
    "            self.A[i] = self.A[i - 1]\n",
    "        self.A[pos] = item\n",
    "        self.n = self.n + 1\n",
    "\n",
    "    def remove(self, item):\n",
    "        # Remove the first occurrence of an item from the array.\n",
    "        pos = self.find(item)\n",
    "        if type(pos) == int:\n",
    "            self.__delitem__(pos)\n",
    "        else:\n",
    "            return pos"
   ]
  },
  {
   "cell_type": "code",
   "execution_count": 19,
   "id": "69158633",
   "metadata": {},
   "outputs": [],
   "source": [
    "l=Array()"
   ]
  },
  {
   "cell_type": "code",
   "execution_count": 25,
   "id": "582fd93a",
   "metadata": {},
   "outputs": [
    {
     "name": "stdout",
     "output_type": "stream",
     "text": [
      "[1,2,3,4,1,2,3,4,5,6]\n",
      "10\n"
     ]
    }
   ],
   "source": [
    "l.append(1)\n",
    "l.append(2)\n",
    "l.append(3)\n",
    "l.append(4)\n",
    "l.append(5)\n",
    "l.append(6)\n",
    "print(l)\n",
    "print(len(l))"
   ]
  },
  {
   "cell_type": "code",
   "execution_count": 23,
   "id": "5dac5b01",
   "metadata": {},
   "outputs": [
    {
     "name": "stdout",
     "output_type": "stream",
     "text": [
      "5\n",
      "[1,2,3,4]\n"
     ]
    }
   ],
   "source": [
    "l.pop()\n",
    "print(l)"
   ]
  },
  {
   "cell_type": "code",
   "execution_count": 26,
   "id": "5fbd3e4f",
   "metadata": {},
   "outputs": [
    {
     "data": {
      "text/plain": [
       "2"
      ]
     },
     "execution_count": 26,
     "metadata": {},
     "output_type": "execute_result"
    }
   ],
   "source": [
    "l.find(3)"
   ]
  },
  {
   "cell_type": "code",
   "execution_count": 27,
   "id": "3df6c18a",
   "metadata": {},
   "outputs": [],
   "source": [
    "l.remove(3)"
   ]
  },
  {
   "cell_type": "code",
   "execution_count": 28,
   "id": "d5f1df38",
   "metadata": {},
   "outputs": [
    {
     "name": "stdout",
     "output_type": "stream",
     "text": [
      "[1,2,4,1,2,3,4,5,6]\n"
     ]
    }
   ],
   "source": [
    "print(l)"
   ]
  },
  {
   "cell_type": "code",
   "execution_count": null,
   "id": "7e7e1afe",
   "metadata": {},
   "outputs": [],
   "source": []
  }
 ],
 "metadata": {
  "kernelspec": {
   "display_name": "Python 3",
   "language": "python",
   "name": "python3"
  },
  "language_info": {
   "codemirror_mode": {
    "name": "ipython",
    "version": 3
   },
   "file_extension": ".py",
   "mimetype": "text/x-python",
   "name": "python",
   "nbconvert_exporter": "python",
   "pygments_lexer": "ipython3",
   "version": "3.12.0"
  }
 },
 "nbformat": 4,
 "nbformat_minor": 5
}
