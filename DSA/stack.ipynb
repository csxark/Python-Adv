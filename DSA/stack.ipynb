{
 "cells": [
  {
   "cell_type": "markdown",
   "id": "f8518957",
   "metadata": {},
   "source": [
    "# Stack using Array Implementation"
   ]
  },
  {
   "cell_type": "code",
   "execution_count": null,
   "id": "c2312c14",
   "metadata": {},
   "outputs": [],
   "source": [
    "class Stack_Array:\n",
    "  # Initialize the stack with a fixed size\n",
    "  def __init__(self, size):\n",
    "    self.size = size\n",
    "    self.__stack = [None] * self.size  # Internal list to store stack elements\n",
    "    self.top = -1  # Points to the top element in the stack\n",
    "\n",
    "  # Push a value onto the stack\n",
    "  def push(self, value):\n",
    "    if self.top == self.size - 1:\n",
    "      return \"Overflow\"  # Stack is full\n",
    "    else:\n",
    "      self.top += 1\n",
    "      self.stack[self.top] = value  # Add value to the top\n",
    "\n",
    "  # Pop a value from the stack\n",
    "  def pop(self):\n",
    "    if self.top == -1:\n",
    "      return \"Empty\"  # Stack is empty\n",
    "    else:\n",
    "      data = self.stack[self.top]  # Get the top value\n",
    "      self.top -= 1  # Remove the top element\n",
    "      print(data)  # Print the popped value\n",
    "\n",
    "  # Traverse and print all elements in the stack\n",
    "  def traverse(self):\n",
    "    for i in range(self.top + 1):\n",
    "      print(self.stack[i], end=' ')\n"
   ]
  },
  {
   "cell_type": "markdown",
   "id": "6fb7ad1e",
   "metadata": {},
   "source": [
    "# Stack using Linked List Implementation"
   ]
  },
  {
   "cell_type": "code",
   "execution_count": 2,
   "id": "34a4b41f",
   "metadata": {},
   "outputs": [],
   "source": [
    "class Node:\n",
    "\n",
    "  def __init__(self,value):\n",
    "    self.data = value\n",
    "    self.next = None"
   ]
  },
  {
   "cell_type": "code",
   "execution_count": null,
   "id": "186b6e68",
   "metadata": {},
   "outputs": [],
   "source": [
    "class Stack_LL:\n",
    "  # Initialize the stack with top as None\n",
    "  def __init__(self):\n",
    "    self.top = None\n",
    "\n",
    "  # Push a value onto the stack\n",
    "  def push(self, value):\n",
    "    new_node = Node(value)          # Create a new node with the given value\n",
    "    new_node.next = self.top        # Link the new node to the previous top\n",
    "    self.top = new_node             # Update top to the new node\n",
    "\n",
    "  # Pop a value from the stack\n",
    "  def pop(self):\n",
    "    if self.top is None:\n",
    "      return \"Stack Empty\"        # Stack is empty\n",
    "    else:\n",
    "      data = self.top.data        # Get the top value\n",
    "      self.top = self.top.next    # Move top to the next node\n",
    "      return data                 # Return the popped value\n",
    "\n",
    "  # Check if the stack is empty\n",
    "  def is_empty(self):\n",
    "    return self.top == None\n",
    "\n",
    "  # Peek at the top value without removing it\n",
    "  def peek(self):\n",
    "    if self.top is None:\n",
    "      return \"Stack Empty\"        # Stack is empty\n",
    "    else:\n",
    "      return self.top.data        # Return the top value\n",
    "\n",
    "  # Traverse and print all elements in the stack\n",
    "  def traverse(self):\n",
    "    temp = self.top\n",
    "    while temp is not None:\n",
    "      print(temp.data, end=' ')   # Print current node's data\n",
    "      temp = temp.next            # Move to the next node\n",
    "\n",
    "  # Return the size of the stack\n",
    "  def size(self):\n",
    "    temp = self.top\n",
    "    counter = 0\n",
    "    while temp is not None:\n",
    "      temp = temp.next\n",
    "      counter += 1                # Increment counter for each node\n",
    "    return counter\n"
   ]
  },
  {
   "cell_type": "code",
   "execution_count": null,
   "id": "41b02fc6",
   "metadata": {},
   "outputs": [],
   "source": []
  }
 ],
 "metadata": {
  "kernelspec": {
   "display_name": "Python 3",
   "language": "python",
   "name": "python3"
  },
  "language_info": {
   "codemirror_mode": {
    "name": "ipython",
    "version": 3
   },
   "file_extension": ".py",
   "mimetype": "text/x-python",
   "name": "python",
   "nbconvert_exporter": "python",
   "pygments_lexer": "ipython3",
   "version": "3.12.0"
  }
 },
 "nbformat": 4,
 "nbformat_minor": 5
}
