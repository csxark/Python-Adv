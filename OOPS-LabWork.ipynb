{
 "cells": [
  {
   "cell_type": "markdown",
   "id": "89f1fab0",
   "metadata": {},
   "source": [
    "# OOPS LAB Questions"
   ]
  },
  {
   "cell_type": "markdown",
   "id": "cb8b991a",
   "metadata": {},
   "source": [
    "### Lab 1: Variables and Data Types"
   ]
  }
 ],
 "metadata": {
  "language_info": {
   "name": "python"
  }
 },
 "nbformat": 4,
 "nbformat_minor": 5
}
