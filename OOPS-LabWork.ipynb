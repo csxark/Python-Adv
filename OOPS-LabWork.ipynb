{
 "cells": [
  {
   "cell_type": "markdown",
   "id": "89f1fab0",
   "metadata": {},
   "source": [
    "# OOPS LAB Questions"
   ]
  },
  {
   "cell_type": "markdown",
   "id": "cb8b991a",
   "metadata": {},
   "source": [
    "## Lab 1: Variables and Data Types"
   ]
  },
  {
   "cell_type": "markdown",
   "id": "1040122a",
   "metadata": {},
   "source": [
    "Q1. Write a Python program to check the type of a variable.\n",
    "\n",
    "Q2. Write a Python program to add two integers number, a integer & a float number, two string type variables.\n",
    "\n",
    "Q3. Write a Python program to SWAP two numbers without using a third variable.\n",
    "\n",
    "Q4. Write a Python program to define different ways of difining variable names (e.g. swap,Swap,SWAP).\n",
    "\n",
    "Q5. Write a Python program to perform all basic arithmetic operations.\n",
    "\n",
    "Q6. Write a Pytohn program to calculate and circumference of a circle."
   ]
  },
  {
   "cell_type": "code",
   "execution_count": 2,
   "id": "00c06fed",
   "metadata": {},
   "outputs": [
    {
     "name": "stdout",
     "output_type": "stream",
     "text": [
      "<class 'int'>\n",
      "<class 'float'>\n",
      "<class 'str'>\n"
     ]
    }
   ],
   "source": [
    "# Solution 1\n",
    "x=10\n",
    "y=3.14\n",
    "z=\"Hello, World!\"\n",
    "print(type(x))  \n",
    "print(type(y))  \n",
    "print(type(z))  "
   ]
  },
  {
   "cell_type": "code",
   "execution_count": 3,
   "id": "5de20e02",
   "metadata": {},
   "outputs": [
    {
     "name": "stdout",
     "output_type": "stream",
     "text": [
      "The sum of a and b is: 30\n",
      "Sum of integer and float is: 12.5\n",
      "Concatenation of two strings is: PythonProgramming\n"
     ]
    }
   ],
   "source": [
    "# Solution 2\n",
    "a=10\n",
    "b=20\n",
    "print(\"The sum of a and b is:\",a+b)\n",
    "c=2.5\n",
    "print(\"Sum of integer and float is:\",a+c)\n",
    "d=\"Python\"\n",
    "e=\"Programming\"\n",
    "print(\"Concatenation of two strings is:\",d+e)"
   ]
  },
  {
   "cell_type": "code",
   "execution_count": 4,
   "id": "a1758a5d",
   "metadata": {},
   "outputs": [
    {
     "name": "stdout",
     "output_type": "stream",
     "text": [
      "Before swapping: a = 5 , b = 10\n",
      "After swapping: a = 10 , b = 5\n"
     ]
    }
   ],
   "source": [
    "# Solution 3\n",
    "a=5\n",
    "b=10\n",
    "print(\"Before swapping: a =\", a, \", b =\", b)\n",
    "a, b = b, a\n",
    "print(\"After swapping: a =\", a, \", b =\", b)"
   ]
  },
  {
   "cell_type": "code",
   "execution_count": 5,
   "id": "6bb3b54e",
   "metadata": {},
   "outputs": [
    {
     "name": "stdout",
     "output_type": "stream",
     "text": [
      "1 2 3 4\n"
     ]
    }
   ],
   "source": [
    "# Solution 4\n",
    "small_swap=1\n",
    "SmallSwap=2\n",
    "_small_Swap=3\n",
    "smallSwap=4\n",
    "print(small_swap,SmallSwap,_small_Swap,smallSwap)"
   ]
  },
  {
   "cell_type": "code",
   "execution_count": 6,
   "id": "8111444f",
   "metadata": {},
   "outputs": [
    {
     "name": "stdout",
     "output_type": "stream",
     "text": [
      "Sum: 19\n",
      "Difference: 11\n",
      "Product: 60\n",
      "Quotient: 3\n",
      "Remainder: 3\n",
      "Exponentiation: 50625\n",
      "Float Division: 3.75\n"
     ]
    }
   ],
   "source": [
    "# Solution 5\n",
    "a=15\n",
    "b=4\n",
    "print(\"Sum:\",a+b)\n",
    "print(\"Difference:\",a-b)\n",
    "print(\"Product:\",a*b)\n",
    "print(\"Quotient:\",a//b)\n",
    "print(\"Remainder:\",a%b)\n",
    "print(\"Exponentiation:\",a**b)\n",
    "print(\"Float Division:\",a/b)"
   ]
  },
  {
   "cell_type": "code",
   "execution_count": 7,
   "id": "cd9c70c6",
   "metadata": {},
   "outputs": [
    {
     "name": "stdout",
     "output_type": "stream",
     "text": [
      "Area of the circle is: 50.24\n",
      "Circumference of the circle is: 25.12\n"
     ]
    }
   ],
   "source": [
    "# Solution 6\n",
    "r=float(input(\"Enter the radius of the circle: \"))\n",
    "area=3.14*r*r\n",
    "circumference=2*3.14*r\n",
    "print(\"Area of the circle is:\",area)\n",
    "print(\"Circumference of the circle is:\",circumference)"
   ]
  },
  {
   "cell_type": "markdown",
   "id": "04fe767c",
   "metadata": {},
   "source": [
    "## Lab 2: Strings"
   ]
  },
  {
   "cell_type": "markdown",
   "id": "c247ec30",
   "metadata": {},
   "source": [
    "Q1. Compute distance between two points taking input from the user.\n",
    "\n",
    "Q2. Take two numbers as Command line arguments and print their sum.\n",
    "\n",
    "Q3. Reverse a string entered by the user.\n",
    "\n",
    "Q4. Count the number of vowels in a string.\n",
    "\n",
    "Q5. Check whether a string is a palindrome or not.\n",
    "\n",
    "Q6. Replace all Spaces in a string with hyphen(-).\n",
    "\n",
    "Q7. Covert the first character of each word to upper case."
   ]
  },
  {
   "cell_type": "code",
   "execution_count": 8,
   "id": "025b931b",
   "metadata": {},
   "outputs": [
    {
     "name": "stdout",
     "output_type": "stream",
     "text": [
      "Distance between the points is: 2.8284271247461903\n"
     ]
    }
   ],
   "source": [
    "# Solution 1\n",
    "x1=float(input(\"Enter x1: \"))\n",
    "y1=float(input(\"Enter y1: \"))\n",
    "x2=float(input(\"Enter x2: \"))\n",
    "y2=float(input(\"Enter y2: \"))\n",
    "distance=((x2-x1)**2+(y2-y1)**2)**0.5\n",
    "print(\"Distance between the points is:\",distance)"
   ]
  },
  {
   "cell_type": "code",
   "execution_count": 9,
   "id": "263ff0b6",
   "metadata": {},
   "outputs": [
    {
     "ename": "IndexError",
     "evalue": "list index out of range",
     "output_type": "error",
     "traceback": [
      "\u001b[1;31m---------------------------------------------------------------------------\u001b[0m",
      "\u001b[1;31mIndexError\u001b[0m                                Traceback (most recent call last)",
      "Cell \u001b[1;32mIn[9], line 4\u001b[0m\n\u001b[0;32m      2\u001b[0m \u001b[38;5;28;01mimport\u001b[39;00m \u001b[38;5;21;01msys\u001b[39;00m\n\u001b[0;32m      3\u001b[0m num1 \u001b[38;5;241m=\u001b[39m sys\u001b[38;5;241m.\u001b[39margv[\u001b[38;5;241m1\u001b[39m]\n\u001b[1;32m----> 4\u001b[0m num2 \u001b[38;5;241m=\u001b[39m \u001b[43msys\u001b[49m\u001b[38;5;241;43m.\u001b[39;49m\u001b[43margv\u001b[49m\u001b[43m[\u001b[49m\u001b[38;5;241;43m2\u001b[39;49m\u001b[43m]\u001b[49m\n\u001b[0;32m      5\u001b[0m \u001b[38;5;28mprint\u001b[39m(\u001b[38;5;124m\"\u001b[39m\u001b[38;5;124mSum:\u001b[39m\u001b[38;5;124m\"\u001b[39m,num1 \u001b[38;5;241m+\u001b[39m num2)\n",
      "\u001b[1;31mIndexError\u001b[0m: list index out of range"
     ]
    }
   ],
   "source": [
    "# Solution 2\n",
    "import sys\n",
    "num1 = sys.argv[1]\n",
    "num2 = sys.argv[2]\n",
    "print(\"Sum:\",num1 + num2)"
   ]
  },
  {
   "cell_type": "code",
   "execution_count": 11,
   "id": "a13763c9",
   "metadata": {},
   "outputs": [
    {
     "name": "stdout",
     "output_type": "stream",
     "text": [
      "Reversed string: dlroW olleh\n"
     ]
    }
   ],
   "source": [
    "# Solution 3\n",
    "str1 = input(\"Enter string: \")\n",
    "print(\"Reversed string:\", str1[::-1])"
   ]
  },
  {
   "cell_type": "code",
   "execution_count": 12,
   "id": "304e2216",
   "metadata": {},
   "outputs": [
    {
     "name": "stdout",
     "output_type": "stream",
     "text": [
      "Number of vowels in the string: 8\n"
     ]
    }
   ],
   "source": [
    "# Solution 4\n",
    "str2 = input(\"Enter string: \")\n",
    "vowels = 'aeiouAEIOU'\n",
    "count = 0\n",
    "for char in str2:\n",
    "    if char in vowels:\n",
    "        count += 1\n",
    "print(\"Number of vowels in the string:\", count)"
   ]
  },
  {
   "cell_type": "code",
   "execution_count": 13,
   "id": "44693df4",
   "metadata": {},
   "outputs": [
    {
     "name": "stdout",
     "output_type": "stream",
     "text": [
      "The string is not a palindrome.\n"
     ]
    }
   ],
   "source": [
    "# Solution 5\n",
    "str3=input(\"Enter string: \")\n",
    "if str3==str3[::-1]:\n",
    "    print(\"The string is a palindrome.\")\n",
    "else:\n",
    "    print(\"The string is not a palindrome.\")\n",
    "    "
   ]
  },
  {
   "cell_type": "code",
   "execution_count": 15,
   "id": "cead551b",
   "metadata": {},
   "outputs": [
    {
     "name": "stdout",
     "output_type": "stream",
     "text": [
      "String after replacing: The-world-is-so-big\n"
     ]
    }
   ],
   "source": [
    "# Solution 6\n",
    "str4=input(\"Enter string: \")\n",
    "new_str=str4.replace(\" \",\"-\")\n",
    "print(\"String after replacing:\",new_str)"
   ]
  },
  {
   "cell_type": "code",
   "execution_count": 16,
   "id": "c0c66738",
   "metadata": {},
   "outputs": [
    {
     "name": "stdout",
     "output_type": "stream",
     "text": [
      "String after converting: The World Is Big \n"
     ]
    }
   ],
   "source": [
    "# Solution 7\n",
    "str5=input(\"Enter string: \")\n",
    "new_str1=str5.title()\n",
    "print(\"String after converting:\",new_str1)"
   ]
  },
  {
   "cell_type": "markdown",
   "id": "77358b35",
   "metadata": {},
   "source": [
    "## Lab 3: Control Statements"
   ]
  },
  {
   "cell_type": "markdown",
   "id": "4d25635f",
   "metadata": {},
   "source": [
    "Q1. Write a program to display the multiplication table of a number entered by the user.\n",
    "\n",
    "Q2. Write a program to print the inverter pyramid of numbers.\n",
    "\n",
    "Q3. Write a program to check is the input number by user is prime or not.\n",
    "\n",
    "Q4. Write a program to calculate sum of digits.\n",
    "\n",
    "Q5. Print numbers from 1 to 50. If the number is divisible by 3 then print \"Fizz\" instead of the number and if it is divisible by 5 then print \"Buzz\". If it is divisible by both 3 and 5 then print \"FizzBuzz\"."
   ]
  },
  {
   "cell_type": "code",
   "execution_count": 17,
   "id": "216d0e94",
   "metadata": {},
   "outputs": [
    {
     "name": "stdout",
     "output_type": "stream",
     "text": [
      "Multiplication table of 5\n",
      "5 x 1 = 5\n",
      "5 x 2 = 10\n",
      "5 x 3 = 15\n",
      "5 x 4 = 20\n",
      "5 x 5 = 25\n",
      "5 x 6 = 30\n",
      "5 x 7 = 35\n",
      "5 x 8 = 40\n",
      "5 x 9 = 45\n",
      "5 x 10 = 50\n"
     ]
    }
   ],
   "source": [
    "# Solution 1\n",
    "n=int(input(\"Enter a number: \"))\n",
    "print(\"Multiplication table of\",n)\n",
    "for i in range(1,11):\n",
    "    print(n,\"x\",i,\"=\",n*i)"
   ]
  },
  {
   "cell_type": "code",
   "execution_count": 18,
   "id": "6d335a51",
   "metadata": {},
   "outputs": [
    {
     "name": "stdout",
     "output_type": "stream",
     "text": [
      "5 4 3 2 1 \n",
      "5 4 3 2 \n",
      "5 4 3 \n",
      "5 4 \n",
      "5 \n"
     ]
    }
   ],
   "source": [
    "# Solution 2\n",
    "for i in range(5):\n",
    "    for j in range(5,i,-1):\n",
    "        print(j, end=\" \")\n",
    "    print()"
   ]
  },
  {
   "cell_type": "code",
   "execution_count": 19,
   "id": "61dd97b0",
   "metadata": {},
   "outputs": [
    {
     "name": "stdout",
     "output_type": "stream",
     "text": [
      "45 is not a prime number.\n"
     ]
    }
   ],
   "source": [
    "# Solution 3\n",
    "n=int(input(\"Enter a number: \"))\n",
    "if n<2:\n",
    "    print(n,\"is not a prime number.\")\n",
    "for i in range(2,int(n**0.5)+1):\n",
    "    if n%i==0:\n",
    "        print(n,\"is not a prime number.\")\n",
    "        break\n",
    "else:\n",
    "    print(n,\"is a prime number.\")"
   ]
  },
  {
   "cell_type": "code",
   "execution_count": 20,
   "id": "84b4a33b",
   "metadata": {},
   "outputs": [
    {
     "name": "stdout",
     "output_type": "stream",
     "text": [
      "Sum of digits is: 18\n"
     ]
    }
   ],
   "source": [
    "# Solution 4\n",
    "n=int(input(\"Enter a number: \"))\n",
    "c=0\n",
    "for i in str(n):\n",
    "    c+=int(i)\n",
    "print(\"Sum of digits is:\",c)"
   ]
  },
  {
   "cell_type": "code",
   "execution_count": 21,
   "id": "d78db62e",
   "metadata": {},
   "outputs": [
    {
     "name": "stdout",
     "output_type": "stream",
     "text": [
      "1\n",
      "2\n",
      "Fizz\n",
      "4\n",
      "Buzz\n",
      "Fizz\n",
      "7\n",
      "8\n",
      "Fizz\n",
      "Buzz\n",
      "11\n",
      "Fizz\n",
      "13\n",
      "14\n",
      "FizzBuzz\n",
      "16\n",
      "17\n",
      "Fizz\n",
      "19\n",
      "Buzz\n",
      "Fizz\n",
      "22\n",
      "23\n",
      "Fizz\n",
      "Buzz\n",
      "26\n",
      "Fizz\n",
      "28\n",
      "29\n",
      "FizzBuzz\n",
      "31\n",
      "32\n",
      "Fizz\n",
      "34\n",
      "Buzz\n",
      "Fizz\n",
      "37\n",
      "38\n",
      "Fizz\n",
      "Buzz\n",
      "41\n",
      "Fizz\n",
      "43\n",
      "44\n",
      "FizzBuzz\n",
      "46\n",
      "47\n",
      "Fizz\n",
      "49\n",
      "Buzz\n"
     ]
    }
   ],
   "source": [
    "# Solution 5\n",
    "for i in range(1,51):\n",
    "    if i%3==0 and i%5==0:\n",
    "        print(\"FizzBuzz\")\n",
    "    elif i%3==0:\n",
    "        print(\"Fizz\")\n",
    "    elif i%5==0:\n",
    "        print(\"Buzz\")\n",
    "    else:\n",
    "        print(i)"
   ]
  }
 ],
 "metadata": {
  "kernelspec": {
   "display_name": "Python 3",
   "language": "python",
   "name": "python3"
  },
  "language_info": {
   "codemirror_mode": {
    "name": "ipython",
    "version": 3
   },
   "file_extension": ".py",
   "mimetype": "text/x-python",
   "name": "python",
   "nbconvert_exporter": "python",
   "pygments_lexer": "ipython3",
   "version": "3.12.0"
  }
 },
 "nbformat": 4,
 "nbformat_minor": 5
}
