{
 "cells": [
  {
   "cell_type": "markdown",
   "id": "89f1fab0",
   "metadata": {},
   "source": [
    "# OOPS LAB Questions"
   ]
  },
  {
   "cell_type": "markdown",
   "id": "cb8b991a",
   "metadata": {},
   "source": [
    "## Lab 1: Variables and Data Types"
   ]
  },
  {
   "cell_type": "markdown",
   "id": "1040122a",
   "metadata": {},
   "source": [
    "Q1. Write a Python program to check the type of a variable.\n",
    "\n",
    "Q2. Write a Python program to add two integers number, a integer & a float number, two string type variables.\n",
    "\n",
    "Q3. Write a Python program to SWAP two numbers without using a third variable.\n",
    "\n",
    "Q4. Write a Python program to define different ways of difining variable names (e.g. swap,Swap,SWAP).\n",
    "\n",
    "Q5. Write a Python program to perform all basic arithmetic operations.\n",
    "\n",
    "Q6. Write a Pytohn program to calculate and circumference of a circle."
   ]
  },
  {
   "cell_type": "code",
   "execution_count": 2,
   "id": "00c06fed",
   "metadata": {},
   "outputs": [
    {
     "name": "stdout",
     "output_type": "stream",
     "text": [
      "<class 'int'>\n",
      "<class 'float'>\n",
      "<class 'str'>\n"
     ]
    }
   ],
   "source": [
    "# Solution 1\n",
    "x=10\n",
    "y=3.14\n",
    "z=\"Hello, World!\"\n",
    "print(type(x))  \n",
    "print(type(y))  \n",
    "print(type(z))  "
   ]
  },
  {
   "cell_type": "code",
   "execution_count": 3,
   "id": "5de20e02",
   "metadata": {},
   "outputs": [
    {
     "name": "stdout",
     "output_type": "stream",
     "text": [
      "The sum of a and b is: 30\n",
      "Sum of integer and float is: 12.5\n",
      "Concatenation of two strings is: PythonProgramming\n"
     ]
    }
   ],
   "source": [
    "# Solution 2\n",
    "a=10\n",
    "b=20\n",
    "print(\"The sum of a and b is:\",a+b)\n",
    "c=2.5\n",
    "print(\"Sum of integer and float is:\",a+c)\n",
    "d=\"Python\"\n",
    "e=\"Programming\"\n",
    "print(\"Concatenation of two strings is:\",d+e)"
   ]
  },
  {
   "cell_type": "code",
   "execution_count": 4,
   "id": "a1758a5d",
   "metadata": {},
   "outputs": [
    {
     "name": "stdout",
     "output_type": "stream",
     "text": [
      "Before swapping: a = 5 , b = 10\n",
      "After swapping: a = 10 , b = 5\n"
     ]
    }
   ],
   "source": [
    "# Solution 3\n",
    "a=5\n",
    "b=10\n",
    "print(\"Before swapping: a =\", a, \", b =\", b)\n",
    "a, b = b, a\n",
    "print(\"After swapping: a =\", a, \", b =\", b)"
   ]
  },
  {
   "cell_type": "code",
   "execution_count": 5,
   "id": "6bb3b54e",
   "metadata": {},
   "outputs": [
    {
     "name": "stdout",
     "output_type": "stream",
     "text": [
      "1 2 3 4\n"
     ]
    }
   ],
   "source": [
    "# Solution 4\n",
    "small_swap=1\n",
    "SmallSwap=2\n",
    "_small_Swap=3\n",
    "smallSwap=4\n",
    "print(small_swap,SmallSwap,_small_Swap,smallSwap)"
   ]
  },
  {
   "cell_type": "code",
   "execution_count": 6,
   "id": "8111444f",
   "metadata": {},
   "outputs": [
    {
     "name": "stdout",
     "output_type": "stream",
     "text": [
      "Sum: 19\n",
      "Difference: 11\n",
      "Product: 60\n",
      "Quotient: 3\n",
      "Remainder: 3\n",
      "Exponentiation: 50625\n",
      "Float Division: 3.75\n"
     ]
    }
   ],
   "source": [
    "# Solution 5\n",
    "a=15\n",
    "b=4\n",
    "print(\"Sum:\",a+b)\n",
    "print(\"Difference:\",a-b)\n",
    "print(\"Product:\",a*b)\n",
    "print(\"Quotient:\",a//b)\n",
    "print(\"Remainder:\",a%b)\n",
    "print(\"Exponentiation:\",a**b)\n",
    "print(\"Float Division:\",a/b)"
   ]
  },
  {
   "cell_type": "code",
   "execution_count": 7,
   "id": "cd9c70c6",
   "metadata": {},
   "outputs": [
    {
     "name": "stdout",
     "output_type": "stream",
     "text": [
      "Area of the circle is: 50.24\n",
      "Circumference of the circle is: 25.12\n"
     ]
    }
   ],
   "source": [
    "# Solution 6\n",
    "r=float(input(\"Enter the radius of the circle: \"))\n",
    "area=3.14*r*r\n",
    "circumference=2*3.14*r\n",
    "print(\"Area of the circle is:\",area)\n",
    "print(\"Circumference of the circle is:\",circumference)"
   ]
  },
  {
   "cell_type": "markdown",
   "id": "04fe767c",
   "metadata": {},
   "source": [
    "## Lab 2: Strings"
   ]
  },
  {
   "cell_type": "markdown",
   "id": "c247ec30",
   "metadata": {},
   "source": [
    "Q1. Compute distance between two points taking input from the user.\n",
    "\n",
    "Q2. Take two numbers as Command line arguments and print their sum.\n",
    "\n",
    "Q3. Reverse a string entered by the user.\n",
    "\n",
    "Q4. Count the number of vowels in a string.\n",
    "\n",
    "Q5. Check whether a string is a palindrome or not.\n",
    "\n",
    "Q6. Replace all Spaces in a string with hyphen(-).\n",
    "\n",
    "Q7. Covert the first character of each word to upper case."
   ]
  },
  {
   "cell_type": "code",
   "execution_count": 8,
   "id": "025b931b",
   "metadata": {},
   "outputs": [
    {
     "name": "stdout",
     "output_type": "stream",
     "text": [
      "Distance between the points is: 2.8284271247461903\n"
     ]
    }
   ],
   "source": [
    "# Solution 1\n",
    "x1=float(input(\"Enter x1: \"))\n",
    "y1=float(input(\"Enter y1: \"))\n",
    "x2=float(input(\"Enter x2: \"))\n",
    "y2=float(input(\"Enter y2: \"))\n",
    "distance=((x2-x1)**2+(y2-y1)**2)**0.5\n",
    "print(\"Distance between the points is:\",distance)"
   ]
  },
  {
   "cell_type": "code",
   "execution_count": 9,
   "id": "263ff0b6",
   "metadata": {},
   "outputs": [
    {
     "ename": "IndexError",
     "evalue": "list index out of range",
     "output_type": "error",
     "traceback": [
      "\u001b[1;31m---------------------------------------------------------------------------\u001b[0m",
      "\u001b[1;31mIndexError\u001b[0m                                Traceback (most recent call last)",
      "Cell \u001b[1;32mIn[9], line 4\u001b[0m\n\u001b[0;32m      2\u001b[0m \u001b[38;5;28;01mimport\u001b[39;00m \u001b[38;5;21;01msys\u001b[39;00m\n\u001b[0;32m      3\u001b[0m num1 \u001b[38;5;241m=\u001b[39m sys\u001b[38;5;241m.\u001b[39margv[\u001b[38;5;241m1\u001b[39m]\n\u001b[1;32m----> 4\u001b[0m num2 \u001b[38;5;241m=\u001b[39m \u001b[43msys\u001b[49m\u001b[38;5;241;43m.\u001b[39;49m\u001b[43margv\u001b[49m\u001b[43m[\u001b[49m\u001b[38;5;241;43m2\u001b[39;49m\u001b[43m]\u001b[49m\n\u001b[0;32m      5\u001b[0m \u001b[38;5;28mprint\u001b[39m(\u001b[38;5;124m\"\u001b[39m\u001b[38;5;124mSum:\u001b[39m\u001b[38;5;124m\"\u001b[39m,num1 \u001b[38;5;241m+\u001b[39m num2)\n",
      "\u001b[1;31mIndexError\u001b[0m: list index out of range"
     ]
    }
   ],
   "source": [
    "# Solution 2\n",
    "import sys\n",
    "num1 = sys.argv[1]\n",
    "num2 = sys.argv[2]\n",
    "print(\"Sum:\",num1 + num2)"
   ]
  },
  {
   "cell_type": "code",
   "execution_count": 11,
   "id": "a13763c9",
   "metadata": {},
   "outputs": [
    {
     "name": "stdout",
     "output_type": "stream",
     "text": [
      "Reversed string: dlroW olleh\n"
     ]
    }
   ],
   "source": [
    "# Solution 3\n",
    "str1 = input(\"Enter string: \")\n",
    "print(\"Reversed string:\", str1[::-1])"
   ]
  },
  {
   "cell_type": "code",
   "execution_count": 12,
   "id": "304e2216",
   "metadata": {},
   "outputs": [
    {
     "name": "stdout",
     "output_type": "stream",
     "text": [
      "Number of vowels in the string: 8\n"
     ]
    }
   ],
   "source": [
    "# Solution 4\n",
    "str2 = input(\"Enter string: \")\n",
    "vowels = 'aeiouAEIOU'\n",
    "count = 0\n",
    "for char in str2:\n",
    "    if char in vowels:\n",
    "        count += 1\n",
    "print(\"Number of vowels in the string:\", count)"
   ]
  },
  {
   "cell_type": "code",
   "execution_count": 13,
   "id": "44693df4",
   "metadata": {},
   "outputs": [
    {
     "name": "stdout",
     "output_type": "stream",
     "text": [
      "The string is not a palindrome.\n"
     ]
    }
   ],
   "source": [
    "# Solution 5\n",
    "str3=input(\"Enter string: \")\n",
    "if str3==str3[::-1]:\n",
    "    print(\"The string is a palindrome.\")\n",
    "else:\n",
    "    print(\"The string is not a palindrome.\")\n",
    "    "
   ]
  },
  {
   "cell_type": "code",
   "execution_count": 15,
   "id": "cead551b",
   "metadata": {},
   "outputs": [
    {
     "name": "stdout",
     "output_type": "stream",
     "text": [
      "String after replacing: The-world-is-so-big\n"
     ]
    }
   ],
   "source": [
    "# Solution 6\n",
    "str4=input(\"Enter string: \")\n",
    "new_str=str4.replace(\" \",\"-\")\n",
    "print(\"String after replacing:\",new_str)"
   ]
  },
  {
   "cell_type": "code",
   "execution_count": 16,
   "id": "c0c66738",
   "metadata": {},
   "outputs": [
    {
     "name": "stdout",
     "output_type": "stream",
     "text": [
      "String after converting: The World Is Big \n"
     ]
    }
   ],
   "source": [
    "# Solution 7\n",
    "str5=input(\"Enter string: \")\n",
    "new_str1=str5.title()\n",
    "print(\"String after converting:\",new_str1)"
   ]
  },
  {
   "cell_type": "markdown",
   "id": "77358b35",
   "metadata": {},
   "source": [
    "## Lab 3: Control Statements"
   ]
  },
  {
   "cell_type": "markdown",
   "id": "4d25635f",
   "metadata": {},
   "source": [
    "Q1. Write a program to display the multiplication table of a number entered by the user.\n",
    "\n",
    "Q2. Write a program to print the inverter pyramid of numbers.\n",
    "\n",
    "Q3. Write a program to check is the input number by user is prime or not.\n",
    "\n",
    "Q4. Write a program to calculate sum of digits.\n",
    "\n",
    "Q5. Print numbers from 1 to 50. If the number is divisible by 3 then print \"Fizz\" instead of the number and if it is divisible by 5 then print \"Buzz\". If it is divisible by both 3 and 5 then print \"FizzBuzz\"."
   ]
  },
  {
   "cell_type": "code",
   "execution_count": 17,
   "id": "216d0e94",
   "metadata": {},
   "outputs": [
    {
     "name": "stdout",
     "output_type": "stream",
     "text": [
      "Multiplication table of 5\n",
      "5 x 1 = 5\n",
      "5 x 2 = 10\n",
      "5 x 3 = 15\n",
      "5 x 4 = 20\n",
      "5 x 5 = 25\n",
      "5 x 6 = 30\n",
      "5 x 7 = 35\n",
      "5 x 8 = 40\n",
      "5 x 9 = 45\n",
      "5 x 10 = 50\n"
     ]
    }
   ],
   "source": [
    "# Solution 1\n",
    "n=int(input(\"Enter a number: \"))\n",
    "print(\"Multiplication table of\",n)\n",
    "for i in range(1,11):\n",
    "    print(n,\"x\",i,\"=\",n*i)"
   ]
  },
  {
   "cell_type": "code",
   "execution_count": 18,
   "id": "6d335a51",
   "metadata": {},
   "outputs": [
    {
     "name": "stdout",
     "output_type": "stream",
     "text": [
      "5 4 3 2 1 \n",
      "5 4 3 2 \n",
      "5 4 3 \n",
      "5 4 \n",
      "5 \n"
     ]
    }
   ],
   "source": [
    "# Solution 2\n",
    "for i in range(5):\n",
    "    for j in range(5,i,-1):\n",
    "        print(j, end=\" \")\n",
    "    print()"
   ]
  },
  {
   "cell_type": "code",
   "execution_count": 19,
   "id": "61dd97b0",
   "metadata": {},
   "outputs": [
    {
     "name": "stdout",
     "output_type": "stream",
     "text": [
      "45 is not a prime number.\n"
     ]
    }
   ],
   "source": [
    "# Solution 3\n",
    "n=int(input(\"Enter a number: \"))\n",
    "if n<2:\n",
    "    print(n,\"is not a prime number.\")\n",
    "for i in range(2,int(n**0.5)+1):\n",
    "    if n%i==0:\n",
    "        print(n,\"is not a prime number.\")\n",
    "        break\n",
    "else:\n",
    "    print(n,\"is a prime number.\")"
   ]
  },
  {
   "cell_type": "code",
   "execution_count": 20,
   "id": "84b4a33b",
   "metadata": {},
   "outputs": [
    {
     "name": "stdout",
     "output_type": "stream",
     "text": [
      "Sum of digits is: 18\n"
     ]
    }
   ],
   "source": [
    "# Solution 4\n",
    "n=int(input(\"Enter a number: \"))\n",
    "c=0\n",
    "for i in str(n):\n",
    "    c+=int(i)\n",
    "print(\"Sum of digits is:\",c)"
   ]
  },
  {
   "cell_type": "code",
   "execution_count": 21,
   "id": "d78db62e",
   "metadata": {},
   "outputs": [
    {
     "name": "stdout",
     "output_type": "stream",
     "text": [
      "1\n",
      "2\n",
      "Fizz\n",
      "4\n",
      "Buzz\n",
      "Fizz\n",
      "7\n",
      "8\n",
      "Fizz\n",
      "Buzz\n",
      "11\n",
      "Fizz\n",
      "13\n",
      "14\n",
      "FizzBuzz\n",
      "16\n",
      "17\n",
      "Fizz\n",
      "19\n",
      "Buzz\n",
      "Fizz\n",
      "22\n",
      "23\n",
      "Fizz\n",
      "Buzz\n",
      "26\n",
      "Fizz\n",
      "28\n",
      "29\n",
      "FizzBuzz\n",
      "31\n",
      "32\n",
      "Fizz\n",
      "34\n",
      "Buzz\n",
      "Fizz\n",
      "37\n",
      "38\n",
      "Fizz\n",
      "Buzz\n",
      "41\n",
      "Fizz\n",
      "43\n",
      "44\n",
      "FizzBuzz\n",
      "46\n",
      "47\n",
      "Fizz\n",
      "49\n",
      "Buzz\n"
     ]
    }
   ],
   "source": [
    "# Solution 5\n",
    "for i in range(1,51):\n",
    "    if i%3==0 and i%5==0:\n",
    "        print(\"FizzBuzz\")\n",
    "    elif i%3==0:\n",
    "        print(\"Fizz\")\n",
    "    elif i%5==0:\n",
    "        print(\"Buzz\")\n",
    "    else:\n",
    "        print(i)"
   ]
  },
  {
   "cell_type": "markdown",
   "id": "d4736480",
   "metadata": {},
   "source": [
    "## Lab 4: List"
   ]
  },
  {
   "cell_type": "markdown",
   "id": "621ec144",
   "metadata": {},
   "source": [
    "Q1. Write a program to input 10 integers in the list and print the largest and smallest integer.\n",
    "\n",
    "Q2. Write a program to input 5 names in a list and print them in sorted order.\n",
    "\n",
    "Q3. Write a program to reverse a list without using reverse function.\n",
    "\n",
    "Q4. Given a list of marks, Write a program to find average of marks and display above average students.\n",
    "\n",
    "Q5. Write a program to print all the items of a list using while loop by going through all the index number."
   ]
  },
  {
   "cell_type": "code",
   "execution_count": 22,
   "id": "3c672327",
   "metadata": {},
   "outputs": [
    {
     "name": "stdout",
     "output_type": "stream",
     "text": [
      "Largest integer is: 10\n",
      "Smallest integer is: 1\n"
     ]
    }
   ],
   "source": [
    "# Solution 1 \n",
    "lst=[int(input(\"Enter integer\")) for i in range(10)]\n",
    "print(\"Largest integer is:\",max(lst))\n",
    "print(\"Smallest integer is:\",min(lst))"
   ]
  },
  {
   "cell_type": "code",
   "execution_count": 23,
   "id": "625c0c59",
   "metadata": {},
   "outputs": [
    {
     "name": "stdout",
     "output_type": "stream",
     "text": [
      "Names in sorted order: ['aakash', 'ark', 'harshit', 'manas', 'suyash']\n"
     ]
    }
   ],
   "source": [
    "# Solution 2\n",
    "names=[input(\"Enter name: \") for i in range(5)]\n",
    "names.sort()\n",
    "print(\"Names in sorted order:\",names)"
   ]
  },
  {
   "cell_type": "code",
   "execution_count": 24,
   "id": "2da3a0c1",
   "metadata": {},
   "outputs": [
    {
     "name": "stdout",
     "output_type": "stream",
     "text": [
      "Reversed list is: [77, 5, 3, 2, 1]\n"
     ]
    }
   ],
   "source": [
    "# Solution 3\n",
    "lst=[int(input(\"Enter integer: \")) for i in range(5)]\n",
    "rev_lst=lst[::-1]\n",
    "print(\"Reversed list is:\",rev_lst)"
   ]
  },
  {
   "cell_type": "code",
   "execution_count": 25,
   "id": "f223f6fb",
   "metadata": {},
   "outputs": [
    {
     "name": "stdout",
     "output_type": "stream",
     "text": [
      "Average marks is: 76.0\n",
      "Students with above average marks:\n",
      "85\n",
      "90\n"
     ]
    }
   ],
   "source": [
    "# Solution 4\n",
    "marks=[70,85,90,60,75]\n",
    "avg=sum(marks)/len(marks)\n",
    "print(\"Average marks is:\",avg)\n",
    "print(\"Students with above average marks:\")\n",
    "for mark in marks:\n",
    "    if mark>avg:\n",
    "        print(mark)"
   ]
  },
  {
   "cell_type": "code",
   "execution_count": 26,
   "id": "0029c78e",
   "metadata": {},
   "outputs": [
    {
     "name": "stdout",
     "output_type": "stream",
     "text": [
      "2\n",
      "23\n",
      "21\n",
      "32\n",
      "1\n"
     ]
    }
   ],
   "source": [
    "# Solution 5\n",
    "lst=[int(input(\"Enter integer: \")) for i in range(5)]\n",
    "i=0\n",
    "while i<len(lst):\n",
    "    print(lst[i])\n",
    "    i+=1"
   ]
  },
  {
   "cell_type": "markdown",
   "id": "c1237b18",
   "metadata": {},
   "source": [
    "## Lab 5: Functions"
   ]
  },
  {
   "cell_type": "markdown",
   "id": "dda6cd9c",
   "metadata": {},
   "source": [
    "Q1. A school maintains students grade in 3 subject. Write a function that will return the average marks. Show how default parameters could be used if a student has missed a test. Assume marks = 0.\n",
    "\n",
    "Q2. A cafe allows customer to order multiple items. Write a function TOTAL BILL* Items where each item is given as a tuple name,price. This function should return the total bill.\n",
    "\n",
    "Q3. In an e commerce system, APPLY DISCOUNT parameters ( price, discount ) is frequently used. Management asked to reduce repetitive function definition\n",
    "\n",
    "Q4. Write a function which calculate area,\n",
    "Conditions: if both length and breadth are provided return rectangle area, if only length is provided return square area.\n",
    "\n",
    "Q5. Write a function BONUS with parameters ( Salary, rate = 0.10) that calculate the new salary after applying a bonus rate. Call the function ones using positional argument and ones using keyboard argument. Show a case where incorrect mixing of positional and keyword argument shows an error \n",
    "\n",
    "Q6. Design a function STUDENT RECORD parameters (course, subjects,*details) that stores the course name,age,grade using key word arguments.Write a program that demonstrates all three cases in one function call ."
   ]
  },
  {
   "cell_type": "code",
   "execution_count": 27,
   "id": "2fa8caa7",
   "metadata": {},
   "outputs": [
    {
     "name": "stdout",
     "output_type": "stream",
     "text": [
      "50.0\n",
      "80.0\n"
     ]
    }
   ],
   "source": [
    "# Solution 1\n",
    "def average_marks(sub1=0, sub2=0, sub3=0):\n",
    "    total = sub1 + sub2 + sub3\n",
    "    count = 3\n",
    "    avg = total / count\n",
    "    return avg\n",
    "\n",
    "\n",
    "print(average_marks(80, 70))   \n",
    "print(average_marks(80, 70, 90)) "
   ]
  },
  {
   "cell_type": "code",
   "execution_count": 28,
   "id": "f02a3e1b",
   "metadata": {},
   "outputs": [
    {
     "name": "stdout",
     "output_type": "stream",
     "text": [
      "260\n"
     ]
    }
   ],
   "source": [
    "# Solution 2\n",
    "def total_bill(*items):\n",
    "    bill = 0\n",
    "    for item in items:\n",
    "        bill += item[1]\n",
    "    return bill\n",
    "\n",
    "\n",
    "order = (('Coffee', 120), ('Sandwich', 85), ('Cake', 55))\n",
    "print(total_bill(*order))  "
   ]
  },
  {
   "cell_type": "code",
   "execution_count": 30,
   "id": "60dc110e",
   "metadata": {},
   "outputs": [
    {
     "name": "stdout",
     "output_type": "stream",
     "text": [
      "450.0\n",
      "425.0\n"
     ]
    }
   ],
   "source": [
    "# Solution 3\n",
    "def apply_discount(price, discount):\n",
    "    return price - (price * discount / 100)\n",
    "\n",
    "discount_fn = lambda price, discount: price - (price * discount / 100)\n",
    "\n",
    "print(apply_discount(500, 10))       \n",
    "print(discount_fn(500, 15))           "
   ]
  },
  {
   "cell_type": "code",
   "execution_count": 31,
   "id": "e722d052",
   "metadata": {},
   "outputs": [
    {
     "name": "stdout",
     "output_type": "stream",
     "text": [
      "25\n",
      "40\n"
     ]
    }
   ],
   "source": [
    "# Solution 4\n",
    "def calculate_area(length, breadth=None):\n",
    "    if breadth is None:\n",
    "        return length * length\n",
    "    else:\n",
    "        return length * breadth\n",
    "\n",
    "print(calculate_area(5))      \n",
    "print(calculate_area(5, 8))   "
   ]
  },
  {
   "cell_type": "code",
   "execution_count": 35,
   "id": "7f7766e3",
   "metadata": {},
   "outputs": [
    {
     "name": "stdout",
     "output_type": "stream",
     "text": [
      "57500.0\n",
      "60000.0\n",
      "55000.0\n"
     ]
    }
   ],
   "source": [
    "# Solution 5\n",
    "def bonus(salary, rate=0.10):\n",
    "    return salary + (salary * rate)\n",
    "\n",
    "print(bonus(50000, 0.15))   \n",
    "print(bonus(salary=50000, rate=0.20))  \n",
    "print(bonus(50000))  \n",
    "\n",
    "# This will raise a SyntaxError\n",
    "# print(bonus(salary=50000, 0.20)) "
   ]
  },
  {
   "cell_type": "code",
   "execution_count": 34,
   "id": "e1c07a76",
   "metadata": {},
   "outputs": [
    {
     "name": "stdout",
     "output_type": "stream",
     "text": [
      "Course: Computer Science\n",
      "Subjects: ('Math', 'Physics', 'CS')\n",
      "Details: {'name': 'Aman', 'age': 19, 'grade': 'A'}\n"
     ]
    }
   ],
   "source": [
    "# Solution 6 \n",
    "def student_record(course, *subject, **details):\n",
    "    print(\"Course:\", course)\n",
    "    print(\"Subjects:\", subject)\n",
    "    print(\"Details:\", details)\n",
    "\n",
    "student_record(\n",
    "    \"Computer Science\",         \n",
    "    \"Math\", \"Physics\", \"CS\",    \n",
    "    name=\"Aman\", age=19, grade=\"A\"   \n",
    ")"
   ]
  },
  {
   "cell_type": "markdown",
   "id": "4df2741d",
   "metadata": {},
   "source": [
    "# Serching and Sorting\n",
    "\n",
    "1) Linear Search\n",
    "2) Binary Search"
   ]
  },
  {
   "cell_type": "code",
   "execution_count": 36,
   "id": "ead936ab",
   "metadata": {},
   "outputs": [
    {
     "name": "stdout",
     "output_type": "stream",
     "text": [
      "Element not found in the list.\n"
     ]
    }
   ],
   "source": [
    "# Linear Search\n",
    "def linear_search(arr, target):\n",
    "    for i in range(len(arr)):\n",
    "        if arr[i] == target:\n",
    "            return i\n",
    "    return -1\n",
    "\n",
    "\n",
    "lst=[int(input(\"Enter integer: \")) for i in range(5)]\n",
    "target=int(input(\"Enter target integer: \")) \n",
    "result = linear_search(lst, target)\n",
    "if result != -1:\n",
    "    print(\"Element found at index\", result)\n",
    "else:\n",
    "    print(\"Element not found in the list.\")\n"
   ]
  },
  {
   "cell_type": "code",
   "execution_count": 37,
   "id": "71506621",
   "metadata": {},
   "outputs": [
    {
     "name": "stdout",
     "output_type": "stream",
     "text": [
      "Element not found in the list.\n"
     ]
    }
   ],
   "source": [
    "# Binary Search\n",
    "def binary_search(arr, target):\n",
    "    left, right = 0, len(arr) - 1\n",
    "    while left <= right:\n",
    "        mid = (left + right) // 2\n",
    "        if arr[mid] == target:\n",
    "            return mid\n",
    "        elif arr[mid] < target:\n",
    "            left = mid + 1\n",
    "        else:\n",
    "            right = mid - 1\n",
    "    return -1\n",
    "\n",
    "lst=[int(input(\"Enter integer: \")) for i in range(5)]\n",
    "lst.sort()\n",
    "target=int(input(\"Enter target integer: \"))\n",
    "result = binary_search(lst, target)\n",
    "if result != -1:\n",
    "    print(\"Element found at index\", result)\n",
    "else:\n",
    "    print(\"Element not found in the list.\")\n"
   ]
  },
  {
   "cell_type": "markdown",
   "id": "8d6a7562",
   "metadata": {},
   "source": [
    "# Lab 6: Classes and Objects"
   ]
  },
  {
   "cell_type": "markdown",
   "id": "89f7ced1",
   "metadata": {},
   "source": [
    "Q1. Create a python class called bank account which represents a bank account having self attributes account number, name, balance\n",
    " \n",
    "a) Create constructor with parameter account number, name, balance\n",
    "\n",
    "b) Create a deposit method function in class which manages deposit actions \n",
    "\n",
    "c) Create a withdrawl method which manages withdrawl actions \n",
    "\n",
    "d) Create a bank fee method to apply bank fees with 5% of the balance\n",
    "\n",
    "e) Create a display method to display acc details\n",
    "\n",
    "Q2. Create 2 employees and print their salary slips.Methods:\n",
    "\n",
    "calculate_salary() → Returns total salary after adding DA (20%) and HRA (15%).\n",
    "\n",
    "display() → Prints employee details with total salary.\n",
    "\n",
    "Q3. You are designing a program for a school.\n",
    "Create a Student class with the following attributes:\n",
    "\n",
    "name, roll_no, marks (out of 100)\n",
    "\n",
    "Scenario:\n",
    "\n",
    "Create 3 student objects.\n",
    "\n",
    "Display their details.\n",
    "\n",
    "Add a method grade() that prints \"Pass\" if marks ≥ 40, otherwise \"Fail\"."
   ]
  },
  {
   "cell_type": "code",
   "execution_count": 1,
   "id": "7a374045",
   "metadata": {},
   "outputs": [
    {
     "name": "stdout",
     "output_type": "stream",
     "text": [
      "Deposited 400. New balance is 100400.\n",
      "Withdrew 1000. New balance is 99400.\n",
      "Bank fee of 4970.0 applied. New balance is 94430.0.\n",
      "Account Number: 65324\n",
      "Account Holder: Ajay\n",
      "Balance: 94430.0\n"
     ]
    }
   ],
   "source": [
    "# Solution 1\n",
    "class BankAccount:\n",
    "    def __init__(self, account_number, name, balance):\n",
    "        self.account_number = account_number\n",
    "        self.name = name\n",
    "        self.balance = balance\n",
    "\n",
    "    def deposit(self, amount):\n",
    "        if amount > 0:\n",
    "            self.balance += amount\n",
    "            print(f\"Deposited {amount}. New balance is {self.balance}.\")\n",
    "        else:\n",
    "            print(\"Deposit amount must be positive.\")\n",
    "\n",
    "    def withdraw(self, amount):\n",
    "        if amount > 0:\n",
    "            if amount <= self.balance:\n",
    "                self.balance -= amount\n",
    "                print(f\"Withdrew {amount}. New balance is {self.balance}.\")\n",
    "            else:\n",
    "                print(\"Insufficient funds for withdrawal.\")\n",
    "        else:\n",
    "            print(\"Withdrawal amount must be positive.\")\n",
    "\n",
    "    def apply_bank_fee(self):\n",
    "        fee = self.balance * 0.05\n",
    "        self.balance -= fee\n",
    "        print(f\"Bank fee of {fee} applied. New balance is {self.balance}.\")\n",
    "\n",
    "    def display(self):\n",
    "        print(f\"Account Number: {self.account_number}\")\n",
    "        print(f\"Account Holder: {self.name}\")\n",
    "        print(f\"Balance: {self.balance}\")\n",
    "\n",
    "\n",
    "account = BankAccount(65324, \"Ajay\", 100000)\n",
    "account.deposit(400)\n",
    "account.withdraw(1000)\n",
    "account.apply_bank_fee()\n",
    "account.display()"
   ]
  },
  {
   "cell_type": "code",
   "execution_count": 2,
   "id": "e0c97c51",
   "metadata": {},
   "outputs": [
    {
     "name": "stdout",
     "output_type": "stream",
     "text": [
      "Employee ID   : E101\n",
      "Name         : Monusca\n",
      "Basic Salary : ₹20000.00\n",
      "Total Salary : ₹27000.00\n",
      "------------------------------\n",
      "Employee ID   : E102\n",
      "Name         : Afria\n",
      "Basic Salary : ₹600000.00\n",
      "Total Salary : ₹810000.00\n",
      "------------------------------\n"
     ]
    }
   ],
   "source": [
    "# Solution 2\n",
    "class Employee:\n",
    "    def __init__(self, emp_id, name, b_salary):\n",
    "        self.emp_id = emp_id\n",
    "        self.name = name\n",
    "        self.b_salary = b_salary\n",
    "\n",
    "    def calculate_salary(self):\n",
    "        da = 0.20 * self.b_salary\n",
    "        hra = 0.15 * self.b_salary\n",
    "        total_salary = self.b_salary + da + hra\n",
    "        return total_salary\n",
    "\n",
    "    def display(self):\n",
    "        total_salary = self.calculate_salary()\n",
    "        print(f\"Employee ID   : {self.emp_id}\")\n",
    "        print(f\"Name         : {self.name}\")\n",
    "        print(f\"Basic Salary : ₹{self.b_salary:.2f}\")\n",
    "        print(f\"Total Salary : ₹{total_salary:.2f}\")\n",
    "        print(\"-\" * 30)\n",
    "\n",
    "\n",
    "emp1 = Employee(\"E101\", \"Monusca\", 20000)\n",
    "emp2 = Employee(\"E102\", \"Afria\", 600000)\n",
    "emp1.display()\n",
    "emp2.display()"
   ]
  },
  {
   "cell_type": "code",
   "execution_count": 3,
   "id": "5adfc8f9",
   "metadata": {},
   "outputs": [
    {
     "name": "stdout",
     "output_type": "stream",
     "text": [
      "Name    : Ajay\n",
      "Roll No : 1\n",
      "Marks   : 35\n",
      "Fail\n",
      "\n",
      "Name    : Suyash\n",
      "Roll No : 2\n",
      "Marks   : 95\n",
      "Pass\n",
      "\n",
      "Name    : Manas\n",
      "Roll No : 3\n",
      "Marks   : 15\n",
      "Fail\n",
      "\n"
     ]
    }
   ],
   "source": [
    "# Solution 3\n",
    "class Student:\n",
    "    def __init__(self, name, roll_no, marks):\n",
    "        self.name = name\n",
    "        self.roll_no = roll_no\n",
    "        self.marks = marks\n",
    "\n",
    "    def display(self):\n",
    "        print(f\"Name    : {self.name}\")\n",
    "        print(f\"Roll No : {self.roll_no}\")\n",
    "        print(f\"Marks   : {self.marks}\")\n",
    "\n",
    "    def grade(self):\n",
    "        if self.marks >= 40:\n",
    "            print(\"Pass\")\n",
    "        else:\n",
    "            print(\"Fail\")\n",
    "\n",
    "student1 = Student(\"Ajay\", 1, 35)\n",
    "student2 = Student(\"Suyash\", 2, 95)\n",
    "student3 = Student(\"Manas\", 3, 15)\n",
    "for student in [student1, student2, student3]:\n",
    "    student.display()\n",
    "    student.grade()\n",
    "    print()  "
   ]
  },
  {
   "cell_type": "markdown",
   "id": "1c112cc9",
   "metadata": {},
   "source": [
    "# Lab 7: Inheritance\n"
   ]
  },
  {
   "cell_type": "markdown",
   "id": "4e7ef2f8",
   "metadata": {},
   "source": [
    "Q1:\n",
    "\n",
    "a) create a base class person with attributes name, age \n",
    "\n",
    "b) create a derived class employee that inheritance from person and adds attributes employee id and salary \n",
    "\n",
    "c) implement multi level inheritance with a class manager derived from employee with a department attribute \n",
    "\n",
    "d) implement multiple inheritance with a class trainer that inherits from employee and certification \n",
    "\n",
    "e) write appropriate method to display all details for each type of employee, create object for each class and display their information \n",
    "\n",
    "Q2: An online store has a base class product and two derived classes first is electronics and second is clothing, electronics's attributes brand and warranty, clothing's attributes size and fabric type\n",
    "\n",
    "Q3: A school has a person, teacher and a class teacher each level has its own properties and method"
   ]
  },
  {
   "cell_type": "code",
   "execution_count": null,
   "id": "b6045709",
   "metadata": {},
   "outputs": [
    {
     "name": "stdout",
     "output_type": "stream",
     "text": [
      "--- Person ---\n",
      "Name: Ajay, Age: 30\n",
      "\n",
      "--- Employee ---\n",
      "Name: Babita, Age: 40\n",
      "\n",
      "Employee ID: E122, Salary: 50000\n",
      "\n",
      "--- Manager ---\n",
      "Name: Caran, Age: 45\n",
      "\n",
      "Employee ID: M454, Salary: 900000\n",
      "\n",
      "Department: SDE\n",
      "\n",
      "--- Trainer ---\n",
      "Name: Dayal, Age: 35\n",
      "\n",
      "Employee ID: T719, Salary: 20000\n",
      "\n",
      "Certification: AWS Certified\n",
      "\n"
     ]
    }
   ],
   "source": [
    "# Solution 1\n",
    "class Person:\n",
    "    def __init__(self, name, age):\n",
    "        self.name = name\n",
    "        self.age = age\n",
    "    \n",
    "    def display(self):\n",
    "        print(f\"Name: {self.name}, Age: {self.age}\\n\")\n",
    "\n",
    "\n",
    "class Employee(Person):\n",
    "    def __init__(self, name, age, emp_id, salary):\n",
    "        super().__init__(name, age)\n",
    "        self.emp_id = emp_id\n",
    "        self.salary = salary\n",
    "    \n",
    "    def display(self):\n",
    "        super().display()\n",
    "        print(f\"Employee ID: {self.emp_id}, Salary: {self.salary}\\n\")\n",
    "\n",
    "\n",
    "class Manager(Employee):\n",
    "    def __init__(self, name, age, emp_id, salary, department):\n",
    "        super().__init__(name, age, emp_id, salary)\n",
    "        self.department = department\n",
    "    \n",
    "    def display(self):\n",
    "        super().display()\n",
    "        print(f\"Department: {self.department}\\n\")\n",
    "\n",
    "class Certification:\n",
    "    def __init__(self, certification_name):\n",
    "        self.certification_name = certification_name\n",
    "    \n",
    "    def display_certification(self):\n",
    "        print(f\"Certification: {self.certification_name}\\n\")\n",
    "\n",
    "\n",
    "class Trainer(Employee, Certification):\n",
    "    def __init__(self, name, age, emp_id, salary, certification_name):\n",
    "        Employee.__init__(self, name, age, emp_id, salary)\n",
    "        Certification.__init__(self, certification_name)\n",
    "    \n",
    "    def display(self):\n",
    "        Employee.display(self)\n",
    "        print(f\"Certification: {self.certification_name}\\n\")\n",
    "\n",
    "\n",
    "person1 = Person(\"Ajay\", 30)\n",
    "employee1 = Employee(\"Babita\", 40, \"E122\", 50000)\n",
    "manager1 = Manager(\"Caran\", 45, \"M454\", 900000, \"SDE\")\n",
    "trainer1 = Trainer(\"Dayal\", 35, \"T719\", 20000, \"AWS Certified\")\n",
    "\n",
    "# Display information\n",
    "print(\"--- Person ---\")\n",
    "person1.display()\n",
    "\n",
    "print(\"--- Employee ---\")\n",
    "employee1.display()\n",
    "\n",
    "print(\"--- Manager ---\")\n",
    "manager1.display()\n",
    "\n",
    "print(\"--- Trainer ---\")\n",
    "trainer1.display()"
   ]
  },
  {
   "cell_type": "code",
   "execution_count": 6,
   "id": "05c5444d",
   "metadata": {},
   "outputs": [
    {
     "name": "stdout",
     "output_type": "stream",
     "text": [
      "Product Name: Laptop, Price: 50000\n",
      "\n",
      "Product Name: Smartphone, Price: 20000\n",
      "\n",
      "Brand: Samsung, Warranty: 2 years\n",
      "\n",
      "Product Name: T-Shirt, Price: 500\n",
      "\n",
      "Size: M, Material: Cotton\n",
      "\n"
     ]
    }
   ],
   "source": [
    "# Solution 2 \n",
    "class Product:\n",
    "    def __init__(self,name,price):\n",
    "        self.name=name\n",
    "        self.price=price\n",
    "\n",
    "    def display(self):\n",
    "        print(f\"Product Name: {self.name}, Price: {self.price}\\n\")\n",
    "\n",
    "class Electronics(Product):\n",
    "    def __init__(self, name, price,brand,warranty):\n",
    "        super().__init__(name, price)\n",
    "        self.brand=brand\n",
    "        self.warranty=warranty\n",
    "    def display(self):\n",
    "        super().display()\n",
    "        print(f\"Brand: {self.brand}, Warranty: {self.warranty} years\\n\")\n",
    "class Clothing(Product):\n",
    "    def __init__(self, name, price,size,fabric_type):\n",
    "        super().__init__(name, price)\n",
    "        self.size=size\n",
    "        self.fabric_type=fabric_type\n",
    "    def display(self):\n",
    "        super().display()\n",
    "        print(f\"Size: {self.size}, Material: {self.fabric_type}\\n\")\n",
    "\n",
    "produnt1=Product(\"Laptop\",50000)\n",
    "electronic1=Electronics(\"Smartphone\",20000,\"Samsung\",2)\n",
    "cloth1=Clothing(\"T-Shirt\",500,\"M\",\"Cotton\")\n",
    "produnt1.display()\n",
    "electronic1.display()\n",
    "cloth1.display()\n"
   ]
  },
  {
   "cell_type": "code",
   "execution_count": 7,
   "id": "33f89d1a",
   "metadata": {},
   "outputs": [
    {
     "name": "stdout",
     "output_type": "stream",
     "text": [
      "--- Person ---\n",
      "Name: Amit, Age: 35\n",
      "\n",
      "--- Teacher ---\n",
      "Name: Sonia, Age: 40\n",
      "Subject: Math, Employee ID: T102\n",
      "Sonia teaches Math.\n",
      "\n",
      "--- Class Teacher ---\n",
      "Name: Neha, Age: 38\n",
      "Subject: Science, Employee ID: CT205\n",
      "Assigned Class: 10A\n",
      "Neha teaches Science.\n",
      "Neha manages 10A.\n"
     ]
    }
   ],
   "source": [
    "# Solution 3\n",
    "class Person:\n",
    "    def __init__(self, name, age):\n",
    "        self.name = name\n",
    "        self.age = age\n",
    "    \n",
    "    def show_info(self):\n",
    "        print(f\"Name: {self.name}, Age: {self.age}\")\n",
    "\n",
    "\n",
    "class Teacher(Person):\n",
    "    def __init__(self, name, age, subject, employee_id):\n",
    "        super().__init__(name, age)\n",
    "        self.subject = subject\n",
    "        self.employee_id = employee_id\n",
    "        \n",
    "    def show_info(self):\n",
    "        super().show_info()\n",
    "        print(f\"Subject: {self.subject}, Employee ID: {self.employee_id}\")\n",
    "    \n",
    "    def teach(self):\n",
    "        print(f\"{self.name} teaches {self.subject}.\")\n",
    "\n",
    "\n",
    "class ClassTeacher(Teacher):\n",
    "    def __init__(self, name, age, subject, employee_id, assigned_class):\n",
    "        super().__init__(name, age, subject, employee_id)\n",
    "        self.assigned_class = assigned_class\n",
    "    \n",
    "    def show_info(self):\n",
    "        super().show_info()\n",
    "        print(f\"Assigned Class: {self.assigned_class}\")\n",
    "    \n",
    "    def manage_class(self):\n",
    "        print(f\"{self.name} manages {self.assigned_class}.\")\n",
    "\n",
    "\n",
    "person1 = Person(\"Amit\", 35)\n",
    "teacher1 = Teacher(\"Sonia\", 40, \"Math\", \"T102\")\n",
    "class_teacher1 = ClassTeacher(\"Neha\", 38, \"Science\", \"CT205\", \"10A\")\n",
    "\n",
    "print(\"--- Person ---\")\n",
    "person1.show_info()\n",
    "print()\n",
    "print(\"--- Teacher ---\")\n",
    "teacher1.show_info()\n",
    "teacher1.teach()\n",
    "print()\n",
    "print(\"--- Class Teacher ---\")\n",
    "class_teacher1.show_info()\n",
    "class_teacher1.teach()\n",
    "class_teacher1.manage_class()"
   ]
  },
  {
   "cell_type": "code",
   "execution_count": null,
   "id": "96153621",
   "metadata": {},
   "outputs": [],
   "source": []
  }
 ],
 "metadata": {
  "kernelspec": {
   "display_name": "Python 3",
   "language": "python",
   "name": "python3"
  },
  "language_info": {
   "codemirror_mode": {
    "name": "ipython",
    "version": 3
   },
   "file_extension": ".py",
   "mimetype": "text/x-python",
   "name": "python",
   "nbconvert_exporter": "python",
   "pygments_lexer": "ipython3",
   "version": "3.12.0"
  }
 },
 "nbformat": 4,
 "nbformat_minor": 5
}
